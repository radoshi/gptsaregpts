{
 "cells": [
  {
   "cell_type": "code",
   "execution_count": 1,
   "metadata": {},
   "outputs": [],
   "source": [
    "from typing import Tuple\n",
    "import pandas as pd\n",
    "import sqlite3"
   ]
  },
  {
   "cell_type": "markdown",
   "metadata": {},
   "source": [
    "1. Open the sqlite DB.\n",
    "2. Extract the dwa table.\n",
    "3. Write it out as a CSV file.\n"
   ]
  },
  {
   "cell_type": "code",
   "execution_count": 2,
   "metadata": {},
   "outputs": [],
   "source": [
    "def connect(name: str) -> Tuple[sqlite3.Connection, sqlite3.Cursor]:\n",
    "    conn = sqlite3.connect(name)\n",
    "    c = conn.cursor()\n",
    "    return conn, c\n",
    "\n",
    "conn, cursor = connect('../db.sqlite')"
   ]
  },
  {
   "cell_type": "code",
   "execution_count": 3,
   "metadata": {},
   "outputs": [],
   "source": [
    "# Create a data frame from dwa_reference\n",
    "sql_query = \"\"\"\n",
    "SELECT\n",
    "    dwa_id,\n",
    "    dwa_title,\n",
    "    classification\n",
    "FROM \n",
    "    dwa_reference\n",
    "\"\"\"\n",
    "\n",
    "df = pd.read_sql_query(sql_query, conn)\n",
    "\n",
    "# Write the data frame to a csv file\n",
    "df.to_csv('../data/readonly/dwa_reference.csv', index=False)"
   ]
  },
  {
   "cell_type": "code",
   "execution_count": 4,
   "metadata": {},
   "outputs": [],
   "source": [
    "# Create a dataframe from tasks_to_dwas\n",
    "sql_query = \"\"\"\n",
    "SELECT\n",
    "    onetsoc_code,\n",
    "    task_id,\n",
    "    dwa_id\n",
    "FROM\n",
    "    tasks_to_dwas\n",
    "\"\"\"\n",
    "\n",
    "df = pd.read_sql_query(sql_query, conn)\n",
    "\n",
    "# Write the data frame to a csv file\n",
    "df.to_csv('../data/readonly/tasks_to_dwas.csv', index=False)"
   ]
  },
  {
   "cell_type": "code",
   "execution_count": 5,
   "metadata": {},
   "outputs": [],
   "source": [
    "# Create a dataframe from task_statements\n",
    "sql_query = \"\"\"\n",
    "SELECT\n",
    "    onetsoc_code,\n",
    "    task_id,\n",
    "    task\n",
    "FROM\n",
    "    task_statements\n",
    "\"\"\"\n",
    "\n",
    "df = pd.read_sql_query(sql_query, conn)\n",
    "\n",
    "# Write the data frame to a csv file\n",
    "df.to_csv('../data/readonly/task_statements.csv', index=False)"
   ]
  },
  {
   "cell_type": "code",
   "execution_count": 7,
   "metadata": {},
   "outputs": [],
   "source": [
    "# Create a datafrom from occupation_data\n",
    "sql_query = \"\"\"\n",
    "SELECT\n",
    "    onetsoc_code,\n",
    "    title\n",
    "FROM\n",
    "    occupation_data\n",
    "\"\"\"\n",
    "\n",
    "df = pd.read_sql_query(sql_query, conn)\n",
    "\n",
    "# Write the data frame to a csv file\n",
    "df.to_csv('../data/readonly/occupation_data.csv', index=False)"
   ]
  },
  {
   "cell_type": "code",
   "execution_count": 10,
   "metadata": {},
   "outputs": [],
   "source": [
    "# Create a dataframe for bls_matrix\n",
    "sql_query = \"\"\"\n",
    "SELECT\n",
    "    occupation_code,\n",
    "    occupation_title,\n",
    "    occupation_type,\n",
    "    industry_code,\n",
    "    industry_title,\n",
    "    industry_type,\n",
    "    employment_2022,\n",
    "    percent_industry_2022,\n",
    "    percent_occupation_2022\n",
    "FROM\n",
    "    bls_matrix\n",
    "\"\"\"\n",
    "\n",
    "df = pd.read_sql_query(sql_query, conn)\n",
    "\n",
    "# Write the data frame to a csv file\n",
    "df.to_csv('../data/readonly/bls_matrix.csv', index=False)"
   ]
  },
  {
   "cell_type": "code",
   "execution_count": 12,
   "metadata": {},
   "outputs": [],
   "source": [
    "# Create a dataframe for bls_onet\n",
    "sql_query = \"\"\"\n",
    "SELECT\n",
    "    onetsoc_code,\n",
    "    nem_code\n",
    "FROM\n",
    "    bls_onet\n",
    "\"\"\"\n",
    "\n",
    "df = pd.read_sql_query(sql_query, conn)\n",
    "\n",
    "# Write the data frame to a csv file\n",
    "df.to_csv('../data/readonly/bls_onet.csv', index=False)"
   ]
  },
  {
   "cell_type": "code",
   "execution_count": null,
   "metadata": {},
   "outputs": [],
   "source": []
  }
 ],
 "metadata": {
  "kernelspec": {
   "display_name": "gptsaregpts-bRn197-3-py3.11",
   "language": "python",
   "name": "python3"
  },
  "language_info": {
   "codemirror_mode": {
    "name": "ipython",
    "version": 3
   },
   "file_extension": ".py",
   "mimetype": "text/x-python",
   "name": "python",
   "nbconvert_exporter": "python",
   "pygments_lexer": "ipython3",
   "version": "3.11.5"
  },
  "orig_nbformat": 4
 },
 "nbformat": 4,
 "nbformat_minor": 2
}
